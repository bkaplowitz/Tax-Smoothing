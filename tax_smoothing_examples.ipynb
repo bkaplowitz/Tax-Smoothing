{
  "nbformat": 4,
  "nbformat_minor": 0,
  "metadata": {
    "kernelspec": {
      "display_name": "Python 3",
      "language": "python",
      "name": "python3"
    },
    "language_info": {
      "codemirror_mode": {
        "name": "ipython",
        "version": 3
      },
      "file_extension": ".py",
      "mimetype": "text/x-python",
      "name": "python",
      "nbconvert_exporter": "python",
      "pygments_lexer": "ipython3",
      "version": "3.7.3"
    },
    "colab": {
      "name": "tax_smoothing_examples.ipynb",
      "version": "0.3.2",
      "provenance": [],
      "collapsed_sections": [],
      "include_colab_link": true
    }
  },
  "cells": [
    {
      "cell_type": "markdown",
      "metadata": {
        "id": "view-in-github",
        "colab_type": "text"
      },
      "source": [
        "<a href=\"https://colab.research.google.com/github/bkaplowitz/Tax-Smoothing/blob/master/tax_smoothing_examples.ipynb\" target=\"_parent\"><img src=\"https://colab.research.google.com/assets/colab-badge.svg\" alt=\"Open In Colab\"/></a>"
      ]
    },
    {
      "cell_type": "markdown",
      "metadata": {
        "id": "pTzZEJh4Wodz",
        "colab_type": "text"
      },
      "source": [
        "## Examples for Brandon\n",
        "\n",
        "Here are some examples of Markov chains to put into the code you revised yesterday to accommodate $N > 2$\n",
        "\n",
        "In the following examples the parameteres $\\lambda, \\gamma, \\phi$ are all fractions living in $[0,1]$\n",
        "\n",
        "You can set them all to $.5$ initially, but we can have fun experimenting with other values\n",
        "\n",
        "Please make the output \"verbose\" at this stage so that you print out lots of the objects that the code computes,\n",
        "e.g., debt levels, tax  collections, and so on."
      ]
    },
    {
      "cell_type": "markdown",
      "metadata": {
        "id": "t1huzgy0XtK7",
        "colab_type": "text"
      },
      "source": [
        "## Setup"
      ]
    },
    {
      "cell_type": "code",
      "metadata": {
        "id": "WU6kpCseXCM7",
        "colab_type": "code",
        "outputId": "de5715cd-a119-4a82-cc0f-a1ced44e845b",
        "colab": {
          "base_uri": "https://localhost:8080/",
          "height": 253
        }
      },
      "source": [
        "!pip install --upgrade quantecon"
      ],
      "execution_count": 1,
      "outputs": [
        {
          "output_type": "stream",
          "text": [
            "Requirement already up-to-date: quantecon in /usr/local/lib/python3.6/dist-packages (0.4.5)\n",
            "Requirement already satisfied, skipping upgrade: numpy in /usr/local/lib/python3.6/dist-packages (from quantecon) (1.16.4)\n",
            "Requirement already satisfied, skipping upgrade: sympy in /usr/local/lib/python3.6/dist-packages (from quantecon) (1.1.1)\n",
            "Requirement already satisfied, skipping upgrade: numba>=0.38 in /usr/local/lib/python3.6/dist-packages (from quantecon) (0.40.1)\n",
            "Requirement already satisfied, skipping upgrade: scipy>=1.0.0 in /usr/local/lib/python3.6/dist-packages (from quantecon) (1.3.0)\n",
            "Requirement already satisfied, skipping upgrade: requests in /usr/local/lib/python3.6/dist-packages (from quantecon) (2.21.0)\n",
            "Requirement already satisfied, skipping upgrade: mpmath>=0.19 in /usr/local/lib/python3.6/dist-packages (from sympy->quantecon) (1.1.0)\n",
            "Requirement already satisfied, skipping upgrade: llvmlite>=0.25.0dev0 in /usr/local/lib/python3.6/dist-packages (from numba>=0.38->quantecon) (0.29.0)\n",
            "Requirement already satisfied, skipping upgrade: urllib3<1.25,>=1.21.1 in /usr/local/lib/python3.6/dist-packages (from requests->quantecon) (1.24.3)\n",
            "Requirement already satisfied, skipping upgrade: chardet<3.1.0,>=3.0.2 in /usr/local/lib/python3.6/dist-packages (from requests->quantecon) (3.0.4)\n",
            "Requirement already satisfied, skipping upgrade: idna<2.9,>=2.5 in /usr/local/lib/python3.6/dist-packages (from requests->quantecon) (2.8)\n",
            "Requirement already satisfied, skipping upgrade: certifi>=2017.4.17 in /usr/local/lib/python3.6/dist-packages (from requests->quantecon) (2019.6.16)\n"
          ],
          "name": "stdout"
        }
      ]
    },
    {
      "cell_type": "code",
      "metadata": {
        "id": "c65dAAxPW2SH",
        "colab_type": "code",
        "colab": {}
      },
      "source": [
        "import numpy as np\n",
        "import quantecon as qe\n",
        "import scipy.linalg as la\n",
        "\n",
        "\n",
        "def isprobabilitymatrix(P: np.ndarray):\n",
        "  try:\n",
        "    assert(np.all(P>=0)==True)\n",
        "  except AssertionError:\n",
        "    print(\"Matrix has negative entries\")\n",
        "  k,l=P.shape\n",
        "  try:\n",
        "    assert(k==l)\n",
        "  except AssertionError:\n",
        "    print(\"Matrix is non-symmetric\")\n",
        "  try:\n",
        "    assert(np.all(np.sum(P,axis=1,keepdims=True)==np.ones((1,k))))\n",
        "  except AssertionError:\n",
        "    print(\"Matrix rows do not sum to 1\")\n",
        "  try:\n",
        "    assert(isinstance(P,np.ndarray))\n",
        "  except AssertionError:\n",
        "    print(\"Not array-like\")\n",
        "\n",
        "class ConsumptionProblem:\n",
        "    \"\"\"\n",
        "    The data for a consumption problem, including some default values.\n",
        "    \"\"\"\n",
        "\n",
        "    def __init__(self,\n",
        "                 β=.96,\n",
        "                 y=[2, 1.5,3],\n",
        "                 b0=3,\n",
        "                 P=np.asarray([[.8, .1, .1],\n",
        "                               [.2, .6,.2],\n",
        "                               [.3,.4,.3]])):\n",
        "        \"\"\"\n",
        "\n",
        "        Parameters\n",
        "        ----------\n",
        "\n",
        "        β : discount factor\n",
        "        P : n x n transition matrix\n",
        "        y : list containing the n income levels\n",
        "        b0 : debt in period 0 (= state_1 debt level)\n",
        "\n",
        "        \"\"\"\n",
        "        try:\n",
        "          assert((β>=0) & (β<=1))\n",
        "        except AssertionError:\n",
        "          print('β must be in (0,1)')\n",
        "        try:\n",
        "          assert(np.all(np.isreal(y))==True)\n",
        "        except AssertionError:\n",
        "          print('y must be a real number')\n",
        "        try:\n",
        "           assert(np.all(np.isreal(b0))==True)\n",
        "        except AssertionError:\n",
        "          print('b0 must be a real number')\n",
        "        isprobabilitymatrix(P) \n",
        "        self.β = β\n",
        "        self.y = y\n",
        "        self.b0 = b0\n",
        "        self.P = P\n",
        "        self.n = np.size(y)\n",
        "\n",
        "  \n",
        "      \n",
        "def consumption_complete(cp, N_simul=150, initval=0, seed=2019):\n",
        "    \"\"\"\n",
        "    Computes endogenous values for the complete market case.\n",
        "\n",
        "    Parameters\n",
        "    ----------\n",
        "\n",
        "    cp : instance of ConsumptionProblem\n",
        "    N_simul : int\n",
        "    initval : state to start from, with 0 corresponding to state 1\n",
        "\n",
        "    Returns\n",
        "    -------\n",
        "\n",
        "        c_bar : constant consumption\n",
        "        b: vector of debts in each state\n",
        "\n",
        "    associated with the price system \n",
        "\n",
        "        Q = β * P\n",
        "\n",
        "    \"\"\"\n",
        "    \n",
        "    \n",
        "    β, P, y, b0, n = cp.β, cp.P, cp.y, cp.b0, cp.n   # Unpack\n",
        "    Q = β * P                               # assumed price system\n",
        "    \n",
        "    np.random.seed(2019)\n",
        "    mc=qe.MarkovChain(P) # simulates markov chain using QE package.\n",
        "    \n",
        "    \n",
        "    # Using equation (7-9) calculate b2, where we will stack the time 0 equation\n",
        "    # on top of our existing n equations. Our new y variable will represent all \n",
        "    # net income, with the top being y(s_1)-b_0\n",
        "    # our new b variable will be called X and will capture all choice variables\n",
        "    # with the first entry being c_bar.\n",
        "    # X= [c_bar; b]\n",
        "    # G  [1 0 0 0 0 0...; \n",
        "    #     1 1 0........;\n",
        "    #     1 0 1 ...]\n",
        "    #E.g [ 1, 0 ]\n",
        "    #    [ 1, I ]\n",
        "    #G@X = [y(s_1)-b_0;Y_VEC]+Q_new (left entry is all 0's now)@np.asarray(X) \n",
        "    #c_bar = y(s_1)+Q[0,:]@np.asarray(b)-b_0\n",
        "    # (G-Q_new)@X=[y(s_1)-b_0;Y_VEC]\n",
        "    # X= (G-Q_new)^{-1}@[y(s_1)-b_0;Y_VEC]\n",
        "    G = np.block([ #represents the fact that we don't observe b and c_bar seperately, only b(s_j)+c_bar on LHS\n",
        "                  [1,np.zeros((1,n))],\n",
        "                  [np.ones((n,1)), np.eye(n)]\n",
        "                  ])\n",
        "    y_aug= np.concatenate((np.atleast_2d(y[initval]-b0),np.atleast_2d(y).T)) #construct our new y, state variables\n",
        "    Q_aug = np.block([ #construct our new Q matrix that involves both the time 0 prices (same as state 1) and prices for all other states\n",
        "                  [0,Q[initval,:]],\n",
        "                  [np.zeros((n,1)),Q]                \n",
        "    ])\n",
        "    X = np.linalg.inv((G-Q_aug)) @ y_aug # solve for X using the linear algebra calculations above.\n",
        "    c_bar=X[0,:] #unroll solved for x\n",
        "    b = X[1:n+1,:]\n",
        "    c_bar = np.ndarray.item(c_bar)\n",
        "    b= b.flatten()\n",
        "    # compute simulated path\n",
        "    s_path = mc.simulate(N_simul, initval)\n",
        "    b_path=np.append(b0,b[s_path])\n",
        "    c_path = np.array(np.repeat(c_bar, N_simul))\n",
        "    y=np.asarray(y)\n",
        "    y_path = y[s_path]\n",
        "    # return values of c_bar and b for each state and the path of each\n",
        "    return c_bar, b, y, c_path, b_path[:-1],y[s_path], s_path\n",
        "\n",
        "\n",
        "def consumption_incomplete(cp, N_simul=150, initval=0, seed=2019):\n",
        "    \"\"\"\n",
        "    Computes endogenous values for the incomplete market case.\n",
        "\n",
        "    Parameters\n",
        "    ----------\n",
        "\n",
        "    cp : instance of ConsumptionProblem\n",
        "    N_simul : int\n",
        "    initval : state to start from with 0 corresponding to state 1.\n",
        "\n",
        "    \"\"\"\n",
        "\n",
        "    β, P, y, b0,n  = cp.β, cp.P, cp.y, cp.b0, cp.n  # Unpack\n",
        "    np.random.seed(seed)\n",
        "    # For the simulation define a quantecon MC class\n",
        "    mc = qe.MarkovChain(P)\n",
        "\n",
        "    # Useful variables\n",
        "    y = np.asarray(y).reshape(n, 1)\n",
        "    v = np.linalg.inv(np.eye(n) - β * P) @ y\n",
        "\n",
        "    # Simulate state path\n",
        "    s_path = mc.simulate(N_simul, initval)\n",
        "\n",
        "    # Store consumption and debt path\n",
        "    b_path, c_path = np.ones(N_simul + 1), np.ones(N_simul)\n",
        "    b_path[0] = b0\n",
        "\n",
        "    # Optimal decisions from (12) and (13)\n",
        "    db = ((1 - β) * v - y) / β\n",
        "\n",
        "    for i, s in enumerate(s_path):\n",
        "        c_path[i] = (1 - β) * (v - b_path[i] * np.ones((np.size(y), 1)))[s, 0]\n",
        "        b_path[i + 1] = b_path[i] + db[s, 0]\n",
        "\n",
        "    return c_path, b_path[:-1], y[s_path], s_path"
      ],
      "execution_count": 0,
      "outputs": []
    },
    {
      "cell_type": "markdown",
      "metadata": {
        "id": "u_sYNdYGXzUF",
        "colab_type": "text"
      },
      "source": [
        "## Parameters"
      ]
    },
    {
      "cell_type": "code",
      "metadata": {
        "id": "cU8MXOODX3NM",
        "colab_type": "code",
        "colab": {}
      },
      "source": [
        "γ = .5\n",
        "λ = .5\n",
        "ϕ = .5\n",
        "G_L=.5\n",
        "G_M=.8\n",
        "G_H =1.2\n",
        "β=.96"
      ],
      "execution_count": 0,
      "outputs": []
    },
    {
      "cell_type": "markdown",
      "metadata": {
        "id": "g0szLHACWod0",
        "colab_type": "text"
      },
      "source": [
        "## Example 1\n",
        "\n",
        "This example is designed to emulate the Civil War and WWI\n",
        "\n",
        "$$ P = \\begin{bmatrix} 1 - \\lambda & \\lambda & 0 \\cr\n",
        "                       0 & 1 - \\phi & \\phi \\cr\n",
        "                       0 & 0 & 1 \\end{bmatrix} $$\n",
        "\n",
        "where the government expenditure vector  $g = \\begin{bmatrix} g_L & g_H & g_M \\end{bmatrix}$\n",
        "where $ g_L < g_M < g_H$ .  Please assume $b_0 = 0$ and assume that the initial Markov state is\n",
        "state $1$ so that the system starts off in peace.\n",
        "\n",
        "Please apply the code for both the complete and the incomplete markets tax-smoothing models and plot\n",
        "outcomes as they are in one of the graphs in the present notebook from quantecon or from your notebook from\n",
        "yesterday"
      ]
    },
    {
      "cell_type": "code",
      "metadata": {
        "id": "rUZ7r-8JaX-t",
        "colab_type": "code",
        "colab": {
          "base_uri": "https://localhost:8080/",
          "height": 881
        },
        "outputId": "23635668-3008-4cae-86dc-f6c3970dd33e"
      },
      "source": [
        "g_1= [G_L,G_M,G_H]\n",
        "\n",
        "P_1 = np.array([\n",
        "    [1-λ, λ, 0 ],\n",
        "    [0, 1-ϕ, ϕ],\n",
        "    [0, 0, 1  ]])\n",
        "\n",
        "b0_1= 0\n",
        "initstate_1= 0\n",
        "N_simul=150\n",
        "seed=2020\n",
        "\n",
        "cp_1 = ConsumptionProblem(\n",
        "    P=P_1,β=β,y=g_1,b0=b0_1)\n",
        "\n",
        "c_bar_complete, b_complete, g, c_path_complete, b_path_complete, g_path_complete, s_path_complete = consumption_complete(cp_1,\n",
        "                                                                                                                      initval=initstate_1,\n",
        "                                                                                                                      N_simul=N_simul, seed=seed)\n",
        "\n",
        "c_path_incomplete, b_path_incomplete, g_path_incomplete, s_path_incomplete = consumption_incomplete(cp_1, \n",
        "                                                                                                    initval=initstate_1, \n",
        "                                                                                                    N_simul=N_simul, seed=seed)\n",
        "\n",
        "Q= β*P_1\n",
        "print(f\"P \\n {P_1}\")\n",
        "print(f\"Q \\n {Q}\")\n",
        "print(f\"Govt expenditures in peace, temporary peace, and war = {g}\")\n",
        "print(f\"Constant tax collections = {c_bar_complete}\")\n",
        "print(f\"Govt assets in three states = {b_complete}\")\n",
        "\n",
        "msg = \"\"\"\n",
        "Now let's check the government's budget constraint in peace and war.\n",
        "Our assumptions imply that the government always purchases 0 units of the\n",
        "Arrow peace security.\n",
        "\"\"\"\n",
        "print(msg)\n",
        "\n",
        "AS1 = Q[0, 2] * b_complete[2]\n",
        "print(f\"Spending on Arrow war security in peace = {AS1}\")\n",
        "AS2 = Q[1, 2] * b_complete[2]\n",
        "print(f\"Spending on Arrow war security in temporary peace = {AS2}\")\n",
        "AS3 = Q[2,2] * b_complete[2]\n",
        "print(f\"Spending on Arrow war security in war = {AS3}\")\n",
        "\n",
        "AS_TP1 = Q[0,1]*b_complete[1]\n",
        "print(f\"Spending on Arrow temporary peace security in peace = {AS_TP1}\")\n",
        "AS_TP2 = Q[1,1]*b_complete[1]\n",
        "print(f\"Spending on Arrow temporary peace security in temporary peace = {AS_TP2}\")\n",
        "AS_TP3 = Q[2,1]*b_complete[1]\n",
        "print(f\"Spending on Arrow temporary peace security in war = {AS_TP3}\")\n",
        "\n",
        "AS_P1 = Q[0,0]*b_complete[0]\n",
        "print(f\"Spending on Arrow peace security in peace = {AS_P1}\")\n",
        "AS_P2 = Q[1,0]*b_complete[0]\n",
        "print(f\"Spending on Arrow peace security in temporary peace = {AS_P2}\")\n",
        "AS_P3 = Q[2,0]*b_complete[0]\n",
        "print(f\"Spending on Arrow peace security in war = {AS_P3}\")\n",
        "print(\"\\n\")\n",
        "print(\"Government tax collections plus asset levels in peace, temporary peace, and war\")\n",
        "TB1 = c_bar_complete + b_complete[0]\n",
        "print(f\"T+b in peace = {TB1}\")\n",
        "TB2 = c_bar_complete + b_complete[1]\n",
        "print(f\"T+b in temporary peace = {TB2}\")\n",
        "TB3 = c_bar_complete + b_complete[2]\n",
        "print(f\"T+b in war = {TB3}\")\n",
        "\n",
        "print(\"\\n\")\n",
        "print(\"Total government spending in peace, temporary peace, and war\")\n",
        "G1 = g[0] + AS1 + AS_TP1 + AS_P1\n",
        "G2 = g[1] + AS2 + AS_TP2 + AS_P2\n",
        "G3 = g[2] + AS3 + AS_TP3 + AS_P3\n",
        "print(f\"Peace = {G1}\")\n",
        "print(f\"Temporary peace = {G2}\")\n",
        "print(f\"War = {G3}\")\n",
        "\n",
        "print(\"\\n\")\n",
        "print(\"Let's see ex-post and ex-ante returns on Arrow securities\")\n",
        "\n",
        "Π = np.reciprocal(Q)\n",
        "exret = Π\n",
        "print(f\"Ex-post returns to purchase of Arrow securities = {exret}\")\n",
        "exant = Π * P_1\n",
        "print(f\"Ex-ante returns to purchase of Arrow securities {exant}\")"
      ],
      "execution_count": 4,
      "outputs": [
        {
          "output_type": "stream",
          "text": [
            "P \n",
            " [[0.5 0.5 0. ]\n",
            " [0.  0.5 0.5]\n",
            " [0.  0.  1. ]]\n",
            "Q \n",
            " [[0.48 0.48 0.  ]\n",
            " [0.   0.48 0.48]\n",
            " [0.   0.   0.96]]\n",
            "Govt expenditures in peace, temporary peace, and war = [0.5 0.8 1.2]\n",
            "Constant tax collections = 1.1177514792899408\n",
            "Govt assets in three states = [0.         1.28698225 2.05621302]\n",
            "\n",
            "Now let's check the government's budget constraint in peace and war.\n",
            "Our assumptions imply that the government always purchases 0 units of the\n",
            "Arrow peace security.\n",
            "\n",
            "Spending on Arrow war security in peace = 0.0\n",
            "Spending on Arrow war security in temporary peace = 0.9869822485207095\n",
            "Spending on Arrow war security in war = 1.973964497041419\n",
            "Spending on Arrow temporary peace security in peace = 0.6177514792899408\n",
            "Spending on Arrow temporary peace security in temporary peace = 0.6177514792899408\n",
            "Spending on Arrow temporary peace security in war = 0.0\n",
            "Spending on Arrow peace security in peace = 0.0\n",
            "Spending on Arrow peace security in temporary peace = 0.0\n",
            "Spending on Arrow peace security in war = 0.0\n",
            "\n",
            "\n",
            "Government tax collections plus asset levels in peace, temporary peace, and war\n",
            "T+b in peace = 1.1177514792899408\n",
            "T+b in temporary peace = 2.404733727810651\n",
            "T+b in war = 3.173964497041419\n",
            "\n",
            "\n",
            "Total government spending in peace, temporary peace, and war\n",
            "Peace = 1.1177514792899408\n",
            "Temporary peace = 2.40473372781065\n",
            "War = 3.173964497041419\n",
            "\n",
            "\n",
            "Let's see ex-post and ex-ante returns on Arrow securities\n",
            "Ex-post returns to purchase of Arrow securities = [[2.08333333 2.08333333        inf]\n",
            " [       inf 2.08333333 2.08333333]\n",
            " [       inf        inf 1.04166667]]\n",
            "Ex-ante returns to purchase of Arrow securities [[1.04166667 1.04166667        nan]\n",
            " [       nan 1.04166667 1.04166667]\n",
            " [       nan        nan 1.04166667]]\n"
          ],
          "name": "stdout"
        },
        {
          "output_type": "stream",
          "text": [
            "/usr/local/lib/python3.6/dist-packages/ipykernel_launcher.py:79: RuntimeWarning: divide by zero encountered in reciprocal\n",
            "/usr/local/lib/python3.6/dist-packages/ipykernel_launcher.py:82: RuntimeWarning: invalid value encountered in multiply\n"
          ],
          "name": "stderr"
        }
      ]
    },
    {
      "cell_type": "markdown",
      "metadata": {
        "id": "ud9vypFAlHZK",
        "colab_type": "text"
      },
      "source": [
        "### Complete and incomplete markets graphs"
      ]
    },
    {
      "cell_type": "code",
      "metadata": {
        "id": "xEI5hXmNhopk",
        "colab_type": "code",
        "colab": {
          "base_uri": "https://localhost:8080/",
          "height": 350
        },
        "outputId": "25af0bc4-4e5e-4220-99c2-36334c730f19"
      },
      "source": [
        "import matplotlib.pyplot as plt\n",
        "%matplotlib inline\n",
        "\n",
        "fig, ax = plt.subplots(1, 2, figsize=(15, 5))\n",
        "\n",
        "ax[0].set_title('Tax collection paths')\n",
        "ax[0].plot(np.arange(N_simul), c_path_incomplete, label='incomplete market')\n",
        "ax[0].plot(np.arange(N_simul), c_path_complete, label='complete market')\n",
        "ax[0].plot(np.arange(N_simul), g_path_complete, label='govt expenditures', alpha=.6, ls='--')\n",
        "ax[0].legend()\n",
        "ax[0].set_xlabel('Periods')\n",
        "\n",
        "ax[1].set_title('Government assets paths')\n",
        "ax[1].plot(np.arange(N_simul), b_path_incomplete, label='incomplete market')\n",
        "ax[1].plot(np.arange(N_simul), b_path_complete, label='complete market')\n",
        "ax[1].plot(np.arange(N_simul), g_path_complete, label='govt expenditures', ls='--')\n",
        "ax[1].legend()\n",
        "ax[1].axhline(0, color='k', ls='--')\n",
        "ax[1].set_xlabel('Periods')\n",
        "\n",
        "plt.show()"
      ],
      "execution_count": 5,
      "outputs": [
        {
          "output_type": "display_data",
          "data": {
            "image/png": "[encoded data removed]",
            "text/plain": [
              "<Figure size 1080x360 with 2 Axes>"
            ]
          },
          "metadata": {
            "tags": []
          }
        }
      ]
    },
    {
      "cell_type": "markdown",
      "metadata": {
        "id": "4t4n5Jc-lWdA",
        "colab_type": "text"
      },
      "source": [
        "### First 20 periods only"
      ]
    },
    {
      "cell_type": "code",
      "metadata": {
        "id": "RLuMmj-VlbnW",
        "colab_type": "code",
        "colab": {
          "base_uri": "https://localhost:8080/",
          "height": 350
        },
        "outputId": "e45cf130-a43a-49bb-8543-040bd64a7ef4"
      },
      "source": [
        "from matplotlib.ticker import MaxNLocator\n",
        "\n",
        "N=20\n",
        "\n",
        "\n",
        "fig, ax = plt.subplots(1, 2, figsize=(15, 5))\n",
        "ax[0].set_title('Tax collection paths')\n",
        "ax[0].plot(np.arange(N), c_path_incomplete[0:N], label='incomplete market')\n",
        "ax[0].plot(np.arange(N), c_path_complete[0:N], label='complete market')\n",
        "ax[0].plot(np.arange(N), g_path_complete[0:N], label='govt expenditures', alpha=.6, ls='--')\n",
        "ax[0].legend()\n",
        "ax[0].set_xlabel('First 20 Periods')\n",
        "ax[0].xaxis.set_major_locator(MaxNLocator(integer=True))\n",
        "\n",
        "\n",
        "ax[1].set_title('Government assets paths')\n",
        "ax[1].plot(np.arange(N), b_path_incomplete[0:N], label='incomplete market')\n",
        "ax[1].plot(np.arange(N), b_path_complete[0:N], label='complete market')\n",
        "ax[1].plot(np.arange(N), g_path_complete[0:N], label='govt expenditures', ls='--')\n",
        "ax[1].legend()\n",
        "ax[1].axhline(0, color='k', ls='--')\n",
        "ax[1].set_xlabel('First 20 Periods',)\n",
        "ax[1].xaxis.set_major_locator(MaxNLocator(integer=True))\n",
        "\n",
        "plt.show()"
      ],
      "execution_count": 6,
      "outputs": [
        {
          "output_type": "display_data",
          "data": {
            "image/png": "[encoded data removed]",
            "text/plain": [
              "<Figure size 1080x360 with 2 Axes>"
            ]
          },
          "metadata": {
            "tags": []
          }
        }
      ]
    },
    {
      "cell_type": "markdown",
      "metadata": {
        "id": "dORImoekWod1",
        "colab_type": "text"
      },
      "source": [
        "## Example 2\n",
        "\n",
        "This example captures a permanent peace.  \n",
        "\n",
        "Here set\n",
        "\n",
        "$$ P = \\begin{bmatrix}   1 & 0 & 0 \\cr\n",
        "                         0 & 1-\\gamma & \\gamma \\cr\n",
        "                         \\phi & 0 & 1-\\phi \\end{bmatrix} $$\n",
        "                       \n",
        "where the government expenditure vector  $g = \\begin{bmatrix} g_L & g_L & g_H \\end{bmatrix}$\n",
        "where $ g_L < g_H$ .  Please assume $b_0 = 0$ and assume that the initial Markov state is state $2$ so that \n",
        "the system starts off in a temporary peace.  \n",
        "\n",
        "\n",
        "Please apply the code for both the complete and the incomplete markets tax-smoothing models and plot\n",
        "outcomes as they are in one of the graphs in the present notebook from quantecon or from your notebook from\n",
        "yesterday\n",
        "\n",
        "\n",
        "\n",
        "\n",
        "state $1$ so that the system starts off in peace.          "
      ]
    },
    {
      "cell_type": "code",
      "metadata": {
        "id": "ffg7jkDrkxVE",
        "colab_type": "code",
        "colab": {
          "base_uri": "https://localhost:8080/",
          "height": 881
        },
        "outputId": "69188b0e-99bd-48e9-8b10-6af1ebf528fa"
      },
      "source": [
        "g_2= [G_L,G_L,G_H]\n",
        "\n",
        "P_2 = np.array([\n",
        "    [1, 0, 0 ],\n",
        "    [0, 1-γ, γ],\n",
        "    [ϕ, 0, 1-ϕ ]])\n",
        "\n",
        "b0_2= 0\n",
        "initstate_2= 1\n",
        "N_simul=150\n",
        "seed=2020\n",
        "\n",
        "\n",
        "cp_2 = ConsumptionProblem(\n",
        "    P=P_2,y=g_2,β=β, b0=b0_2)\n",
        "\n",
        "c_bar_complete_2, b_complete_2, g_2, c_path_complete_2, b_path_complete_2, g_path_complete_2, s_path_complete_2 = consumption_complete(cp_2,\n",
        "                                                                                                                      initval=initstate_2,\n",
        "                                                                                                                      N_simul=N_simul, seed=seed)\n",
        "\n",
        "c_path_incomplete_2, b_path_incomplete_2, g_path_incomplete_2, s_path_incomplete_2 = consumption_incomplete(cp_2, \n",
        "                                                                                                    initval=initstate_2, \n",
        "                                                                                                    N_simul=N_simul, seed=seed)\n",
        "Q_2= β*P_2\n",
        "print(f\"P \\n {P_2}\")\n",
        "print(f\"Q \\n {Q_2}\")\n",
        "print(f\"Govt expenditures in peace, temporary peace, and war = {g_2}\")\n",
        "print(f\"Constant tax collections = {c_bar_complete_2}\")\n",
        "print(f\"Govt assets in three states = {b_complete_2}\")\n",
        "\n",
        "msg = \"\"\"\n",
        "Now let's check the government's budget constraint in peace and war.\n",
        "Our assumptions imply that the government always purchases 0 units of the\n",
        "Arrow peace security.\n",
        "\"\"\"\n",
        "print(msg)\n",
        "\n",
        "AS1 = Q_2[0, 2] * b_complete_2[2]\n",
        "print(f\"Spending on Arrow war security in peace = {AS1}\")\n",
        "AS2 = Q_2[1, 2] * b_complete_2[2]\n",
        "print(f\"Spending on Arrow war security in temporary peace = {AS2}\")\n",
        "AS3 = Q_2[2,2] * b_complete_2[2]\n",
        "print(f\"Spending on Arrow war security in war = {AS3}\")\n",
        "\n",
        "AS_TP1 = Q_2[0,1]*b_complete_2[1]\n",
        "print(f\"Spending on Arrow temporary peace security in peace = {AS_TP1}\")\n",
        "AS_TP2 = Q_2[1,1]*b_complete_2[1]\n",
        "print(f\"Spending on Arrow temporary peace security in temporary peace = {AS_TP2}\")\n",
        "AS_TP3 = Q_2[2,1]*b_complete_2[1]\n",
        "print(f\"Spending on Arrow temporary peace security in war = {AS_TP3}\")\n",
        "\n",
        "AS_P1 = Q_2[0,0]*b_complete_2[0]\n",
        "print(f\"Spending on Arrow peace security in peace = {AS_P1}\")\n",
        "AS_P2 = Q_2[1,0]*b_complete_2[0]\n",
        "print(f\"Spending on Arrow peace security in temporary peace = {AS_P2}\")\n",
        "AS_P3 = Q_2[2,0]*b_complete_2[0]\n",
        "print(f\"Spending on Arrow peace security in war = {AS_P3}\")\n",
        "print(\"\\n\")\n",
        "print(\"Government tax collections plus asset levels in peace, temporary peace, and war\")\n",
        "TB1 = c_bar_complete_2 + b_complete_2[0]\n",
        "print(f\"T+b in peace = {TB1}\")\n",
        "TB2 = c_bar_complete_2 + b_complete_2[1]\n",
        "print(f\"T+b in temporary peace = {TB2}\")\n",
        "TB3 = c_bar_complete_2 + b_complete_2[2]\n",
        "print(f\"T+b in war = {TB3}\")\n",
        "\n",
        "print(\"\\n\")\n",
        "print(\"Total government spending in peace, temporary peace, and war\")\n",
        "G1 = g_2[0] + AS1 + AS_TP1 + AS_P1\n",
        "G2 = g_2[1] + AS2 + AS_TP2 + AS_P2\n",
        "G3 = g_2[2] + AS3 + AS_TP3 + AS_P3\n",
        "print(f\"Peace = {G1}\")\n",
        "print(f\"Temporary peace = {G2}\")\n",
        "print(f\"War = {G3}\")\n",
        "\n",
        "print(\"\\n\")\n",
        "print(\"Let's see ex-post and ex-ante returns on Arrow securities\")\n",
        "\n",
        "Π_2 = np.reciprocal(Q_2)\n",
        "exret = Π_2\n",
        "print(f\"Ex-post returns to purchase of Arrow securities = {exret}\")\n",
        "exant = Π_2 * P_2\n",
        "print(f\"Ex-ante returns to purchase of Arrow securities {exant}\")"
      ],
      "execution_count": 10,
      "outputs": [
        {
          "output_type": "stream",
          "text": [
            "P \n",
            " [[1.  0.  0. ]\n",
            " [0.  0.5 0.5]\n",
            " [0.5 0.  0.5]]\n",
            "Q \n",
            " [[0.96 0.   0.  ]\n",
            " [0.   0.48 0.48]\n",
            " [0.48 0.   0.48]]\n",
            "Govt expenditures in peace, temporary peace, and war = [0.5 0.5 1.2]\n",
            "Constant tax collections = 0.5497041420118344\n",
            "Govt assets in three states = [-1.24260355  0.          0.1035503 ]\n",
            "\n",
            "Now let's check the government's budget constraint in peace and war.\n",
            "Our assumptions imply that the government always purchases 0 units of the\n",
            "Arrow peace security.\n",
            "\n",
            "Spending on Arrow war security in peace = 0.0\n",
            "Spending on Arrow war security in temporary peace = 0.049704142011834304\n",
            "Spending on Arrow war security in war = 0.049704142011834304\n",
            "Spending on Arrow temporary peace security in peace = 0.0\n",
            "Spending on Arrow temporary peace security in temporary peace = 0.0\n",
            "Spending on Arrow temporary peace security in war = 0.0\n",
            "Spending on Arrow peace security in peace = -1.1928994082840239\n",
            "Spending on Arrow peace security in temporary peace = -0.0\n",
            "Spending on Arrow peace security in war = -0.5964497041420119\n",
            "\n",
            "\n",
            "Government tax collections plus asset levels in peace, temporary peace, and war\n",
            "T+b in peace = -0.6928994082840237\n",
            "T+b in temporary peace = 0.5497041420118344\n",
            "T+b in war = 0.6532544378698225\n",
            "\n",
            "\n",
            "Total government spending in peace, temporary peace, and war\n",
            "Peace = -0.6928994082840239\n",
            "Temporary peace = 0.5497041420118343\n",
            "War = 0.6532544378698223\n",
            "\n",
            "\n",
            "Let's see ex-post and ex-ante returns on Arrow securities\n",
            "Ex-post returns to purchase of Arrow securities = [[1.04166667        inf        inf]\n",
            " [       inf 2.08333333 2.08333333]\n",
            " [2.08333333        inf 2.08333333]]\n",
            "Ex-ante returns to purchase of Arrow securities [[1.04166667        nan        nan]\n",
            " [       nan 1.04166667 1.04166667]\n",
            " [1.04166667        nan 1.04166667]]\n"
          ],
          "name": "stdout"
        },
        {
          "output_type": "stream",
          "text": [
            "/usr/local/lib/python3.6/dist-packages/ipykernel_launcher.py:79: RuntimeWarning: divide by zero encountered in reciprocal\n",
            "/usr/local/lib/python3.6/dist-packages/ipykernel_launcher.py:82: RuntimeWarning: invalid value encountered in multiply\n"
          ],
          "name": "stderr"
        }
      ]
    },
    {
      "cell_type": "markdown",
      "metadata": {
        "id": "3bQj6OvBnwDw",
        "colab_type": "text"
      },
      "source": [
        "### Complete and incomplete markets graphs\n"
      ]
    },
    {
      "cell_type": "code",
      "metadata": {
        "id": "Ca6nI_Zzn8Oa",
        "colab_type": "code",
        "colab": {
          "base_uri": "https://localhost:8080/",
          "height": 350
        },
        "outputId": "233cc36e-aafd-40d7-8cc0-ac8aa73f3336"
      },
      "source": [
        "\n",
        "fig, ax = plt.subplots(1, 2, figsize=(15, 5))\n",
        "\n",
        "ax[0].set_title('Tax collection paths')\n",
        "ax[0].plot(np.arange(N_simul), c_path_incomplete_2, label='incomplete market')\n",
        "ax[0].plot(np.arange(N_simul), c_path_complete_2, label='complete market')\n",
        "ax[0].plot(np.arange(N_simul), g_path_complete_2, label='govt expenditures', alpha=.6, ls='--')\n",
        "ax[0].legend()\n",
        "ax[0].set_xlabel('Periods')\n",
        "\n",
        "ax[1].set_title('Government assets paths')\n",
        "ax[1].plot(np.arange(N_simul), b_path_incomplete_2, label='incomplete market')\n",
        "ax[1].plot(np.arange(N_simul), b_path_complete_2, label='complete market')\n",
        "ax[1].plot(np.arange(N_simul), g_path_complete_2, label='govt expenditures', ls='--')\n",
        "ax[1].legend()\n",
        "ax[1].axhline(0, color='k', ls='--')\n",
        "ax[1].set_xlabel('Periods')\n",
        "plt.show()"
      ],
      "execution_count": 8,
      "outputs": [
        {
          "output_type": "display_data",
          "data": {
            "image/png": "[encoded data removed]",
            "text/plain": [
              "<Figure size 1080x360 with 2 Axes>"
            ]
          },
          "metadata": {
            "tags": []
          }
        }
      ]
    },
    {
      "cell_type": "code",
      "metadata": {
        "id": "4Vq32pPnpae6",
        "colab_type": "code",
        "colab": {
          "base_uri": "https://localhost:8080/",
          "height": 350
        },
        "outputId": "bdd83fe1-8161-449e-8418-e25475fdbaed"
      },
      "source": [
        "N_2=10\n",
        "\n",
        "\n",
        "fig, ax = plt.subplots(1, 2, figsize=(15, 5))\n",
        "ax[0].set_title('Tax collection paths')\n",
        "ax[0].plot(np.arange(N_2), c_path_incomplete_2[0:N_2], label='incomplete market')\n",
        "ax[0].plot(np.arange(N_2), c_path_complete_2[0:N_2], label='complete market')\n",
        "ax[0].plot(np.arange(N_2), g_path_complete_2[0:N_2], label='govt expenditures', alpha=.6, ls='--')\n",
        "ax[0].legend()\n",
        "ax[0].set_xlabel('First 5 Periods')\n",
        "ax[0].xaxis.set_major_locator(MaxNLocator(integer=True))\n",
        "\n",
        "\n",
        "ax[1].set_title('Government assets paths')\n",
        "ax[1].plot(np.arange(N_2), b_path_incomplete_2[0:N_2], label='incomplete market')\n",
        "ax[1].plot(np.arange(N_2), b_path_complete_2[0:N_2], label='complete market')\n",
        "ax[1].plot(np.arange(N_2), g_path_complete_2[0:N_2], label='govt expenditures', ls='--')\n",
        "ax[1].legend()\n",
        "ax[1].axhline(0, color='k', ls='--')\n",
        "ax[1].set_xlabel('First 5 Periods',)\n",
        "ax[1].xaxis.set_major_locator(MaxNLocator(integer=True))\n",
        "\n",
        "plt.show()"
      ],
      "execution_count": 9,
      "outputs": [
        {
          "output_type": "display_data",
          "data": {
            "image/png": "[encoded data removed]",
            "text/plain": [
              "<Figure size 1080x360 with 2 Axes>"
            ]
          },
          "metadata": {
            "tags": []
          }
        }
      ]
    }
  ]
}