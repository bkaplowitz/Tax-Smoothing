{
  "nbformat": 4,
  "nbformat_minor": 0,
  "metadata": {
    "kernelspec": {
      "display_name": "Python 3",
      "language": "python",
      "name": "python3"
    },
    "language_info": {
      "codemirror_mode": {
        "name": "ipython",
        "version": 3
      },
      "file_extension": ".py",
      "mimetype": "text/x-python",
      "name": "python",
      "nbconvert_exporter": "python",
      "pygments_lexer": "ipython3",
      "version": "3.7.3"
    },
    "colab": {
      "name": "tax_smoothing_examples.ipynb",
      "version": "0.3.2",
      "provenance": [],
      "collapsed_sections": [],
      "include_colab_link": true
    }
  },
  "cells": [
    {
      "cell_type": "markdown",
      "metadata": {
        "id": "view-in-github",
        "colab_type": "text"
      },
      "source": [
        "<a href=\"https://colab.research.google.com/github/bkaplowitz/Tax-Smoothing/blob/master/tax_smoothing_examples.ipynb\" target=\"_parent\"><img src=\"https://colab.research.google.com/assets/colab-badge.svg\" alt=\"Open In Colab\"/></a>"
      ]
    },
    {
      "cell_type": "markdown",
      "metadata": {
        "id": "pTzZEJh4Wodz",
        "colab_type": "text"
      },
      "source": [
        "## Examples for Brandon\n",
        "\n",
        "Here are some examples of Markov chains to put into the code you revised yesterday to accommodate $N > 2$\n",
        "\n",
        "In the following examples the parameteres $\\lambda, \\gamma, \\phi$ are all fractions living in $[0,1]$\n",
        "\n",
        "You can set them all to $.5$ initially, but we can have fun experimenting with other values\n",
        "\n",
        "Please make the output \"verbose\" at this stage so that you print out lots of the objects that the code computes,\n",
        "e.g., debt levels, tax  collections, and so on."
      ]
    },
    {
      "cell_type": "markdown",
      "metadata": {
        "id": "t1huzgy0XtK7",
        "colab_type": "text"
      },
      "source": [
        "## Setup"
      ]
    },
    {
      "cell_type": "code",
      "metadata": {
        "id": "WU6kpCseXCM7",
        "colab_type": "code",
        "outputId": "3f41c0fe-f96d-4227-854f-9dcffa29ed8c",
        "colab": {
          "base_uri": "https://localhost:8080/",
          "height": 253
        }
      },
      "source": [
        "!pip install --upgrade quantecon"
      ],
      "execution_count": 1,
      "outputs": [
        {
          "output_type": "stream",
          "text": [
            "Requirement already up-to-date: quantecon in /usr/local/lib/python3.6/dist-packages (0.4.5)\n",
            "Requirement already satisfied, skipping upgrade: requests in /usr/local/lib/python3.6/dist-packages (from quantecon) (2.21.0)\n",
            "Requirement already satisfied, skipping upgrade: sympy in /usr/local/lib/python3.6/dist-packages (from quantecon) (1.1.1)\n",
            "Requirement already satisfied, skipping upgrade: numpy in /usr/local/lib/python3.6/dist-packages (from quantecon) (1.16.4)\n",
            "Requirement already satisfied, skipping upgrade: scipy>=1.0.0 in /usr/local/lib/python3.6/dist-packages (from quantecon) (1.3.0)\n",
            "Requirement already satisfied, skipping upgrade: numba>=0.38 in /usr/local/lib/python3.6/dist-packages (from quantecon) (0.40.1)\n",
            "Requirement already satisfied, skipping upgrade: idna<2.9,>=2.5 in /usr/local/lib/python3.6/dist-packages (from requests->quantecon) (2.8)\n",
            "Requirement already satisfied, skipping upgrade: urllib3<1.25,>=1.21.1 in /usr/local/lib/python3.6/dist-packages (from requests->quantecon) (1.24.3)\n",
            "Requirement already satisfied, skipping upgrade: certifi>=2017.4.17 in /usr/local/lib/python3.6/dist-packages (from requests->quantecon) (2019.6.16)\n",
            "Requirement already satisfied, skipping upgrade: chardet<3.1.0,>=3.0.2 in /usr/local/lib/python3.6/dist-packages (from requests->quantecon) (3.0.4)\n",
            "Requirement already satisfied, skipping upgrade: mpmath>=0.19 in /usr/local/lib/python3.6/dist-packages (from sympy->quantecon) (1.1.0)\n",
            "Requirement already satisfied, skipping upgrade: llvmlite>=0.25.0dev0 in /usr/local/lib/python3.6/dist-packages (from numba>=0.38->quantecon) (0.29.0)\n"
          ],
          "name": "stdout"
        }
      ]
    },
    {
      "cell_type": "code",
      "metadata": {
        "id": "c65dAAxPW2SH",
        "colab_type": "code",
        "colab": {}
      },
      "source": [
        "import numpy as np\n",
        "import quantecon as qe\n",
        "import scipy.linalg as la\n",
        "\n",
        "\n",
        "def isprobabilitymatrix(P: np.ndarray):\n",
        "  try:\n",
        "    assert(np.all(P>=0)==True)\n",
        "  except AssertionError:\n",
        "    print(\"Matrix has negative entries\")\n",
        "  k,l=P.shape\n",
        "  try:\n",
        "    assert(k==l)\n",
        "  except AssertionError:\n",
        "    print(\"Matrix is non-symmetric\")\n",
        "  try:\n",
        "    assert(np.all(np.sum(P,axis=1,keepdims=True)==np.ones((1,k))))\n",
        "  except AssertionError:\n",
        "    print(\"Matrix rows do not sum to 1\")\n",
        "  try:\n",
        "    assert(isinstance(P,np.ndarray))\n",
        "  except AssertionError:\n",
        "    print(\"Not array-like\")\n",
        "\n",
        "class ConsumptionProblem:\n",
        "    \"\"\"\n",
        "    The data for a consumption problem, including some default values.\n",
        "    \"\"\"\n",
        "\n",
        "    def __init__(self,\n",
        "                 β=.96,\n",
        "                 y=[2, 1.5,3],\n",
        "                 b0=3,\n",
        "                 P=np.asarray([[.8, .1, .1],\n",
        "                               [.2, .6,.2],\n",
        "                               [.3,.4,.3]])):\n",
        "        \"\"\"\n",
        "\n",
        "        Parameters\n",
        "        ----------\n",
        "\n",
        "        β : discount factor\n",
        "        P : n x n transition matrix\n",
        "        y : list containing the n income levels\n",
        "        b0 : debt in period 0 (= state_1 debt level)\n",
        "\n",
        "        \"\"\"\n",
        "        try:\n",
        "          assert((β>=0) & (β<=1))\n",
        "        except AssertionError:\n",
        "          print('β must be in (0,1)')\n",
        "        try:\n",
        "          assert(np.all(np.isreal(y))==True)\n",
        "        except AssertionError:\n",
        "          print('y must be a real number')\n",
        "        try:\n",
        "           assert(np.all(np.isreal(b0))==True)\n",
        "        except AssertionError:\n",
        "          print('b0 must be a real number')\n",
        "        isprobabilitymatrix(P) \n",
        "        self.β = β\n",
        "        self.y = y\n",
        "        self.b0 = b0\n",
        "        self.P = P\n",
        "        self.n = np.size(y)\n",
        "\n",
        "  \n",
        "      \n",
        "def consumption_complete(cp, N_simul=150, initval=0, seed=2019):\n",
        "    \"\"\"\n",
        "    Computes endogenous values for the complete market case.\n",
        "\n",
        "    Parameters\n",
        "    ----------\n",
        "\n",
        "    cp : instance of ConsumptionProblem\n",
        "    N_simul : int\n",
        "    initval : state to start from, with 0 corresponding to state 1\n",
        "\n",
        "    Returns\n",
        "    -------\n",
        "\n",
        "        c_bar : constant consumption\n",
        "        b: vector of debts in each state\n",
        "\n",
        "    associated with the price system \n",
        "\n",
        "        Q = β * P\n",
        "\n",
        "    \"\"\"\n",
        "    \n",
        "    \n",
        "    β, P, y, b0, n = cp.β, cp.P, cp.y, cp.b0, cp.n   # Unpack\n",
        "    #b[0] = b0                               # b(s1) is known to be equal to b0\n",
        "    Q = β * P                               # assumed price system\n",
        "    \n",
        "    np.random.seed(2019)\n",
        "    mc=qe.MarkovChain(P) # simulates markov chain using QE package.\n",
        "    \n",
        "    \n",
        "    # Using equation (7-9) calculate b2, where we will stack the time 0 equation\n",
        "    # on top of our existing n equations. Our new y variable will represent all \n",
        "    # net income, with the top being y(s_1)-b_0\n",
        "    # our new b variable will be called X and will capture all choice variables\n",
        "    # with the first entry being c_bar.\n",
        "    # X= [c_bar; b]\n",
        "    # G  [1 0 0 0 0 0...; \n",
        "    #     1 1 0........;\n",
        "    #     1 0 1 ...]\n",
        "    #E.g [ 1, 0 ]\n",
        "    #    [ 1, I ]\n",
        "    #G@X = [y(s_1)-b_0;Y_VEC]+Q_new (left entry is all 0's now)@np.asarray(X) \n",
        "    #c_bar = y(s_1)+Q[0,:]@np.asarray(b)-b_0\n",
        "    # (G-Q_new)@X=[y(s_1)-b_0;Y_VEC]\n",
        "    # X= (G-Q_new)^{-1}@[y(s_1)-b_0;Y_VEC]\n",
        "    G = np.block([ #represents the fact that we don't observe b and c_bar seperately, only b(s_j)+c_bar on LHS\n",
        "                  [1,np.zeros((1,n))],\n",
        "                  [np.ones((n,1)), np.eye(n)]\n",
        "                  ])\n",
        "    y_aug= np.concatenate((np.atleast_2d(y[0]-b0),np.atleast_2d(y).T)) #construct our new y, state variables\n",
        "    Q_aug = np.block([ #construct our new Q matrix that involves both the time 0 prices (same as state 1) and prices for all other states\n",
        "                  [0,Q[0,:]],\n",
        "                  [np.zeros((n,1)),Q]                \n",
        "    ])\n",
        "    X = np.linalg.inv((G-Q_aug)) @ y_aug # solve for X using the linear algebra calculations above.\n",
        "    c_bar=X[0,:] #unroll solved for x\n",
        "    b = X[1:n+1,:]\n",
        "    c_bar = np.ndarray.item(c_bar)\n",
        "    b= b.flatten()\n",
        "    # compute simulated path\n",
        "    s_path = mc.simulate(N_simul, init=0)\n",
        "    b_path=np.append(b0,b[s_path])\n",
        "    c_path = np.array(np.repeat(c_bar, N_simul))\n",
        "    y=np.asarray(y)\n",
        "    y_path = y[s_path]\n",
        "    # return values of c_bar and b for each state and the path of each\n",
        "    return c_bar, b, c_path, b_path[:-1],y[s_path], s_path\n",
        "\n",
        "\n",
        "def consumption_incomplete(cp, N_simul=150, initval=0, seed=2019):\n",
        "    \"\"\"\n",
        "    Computes endogenous values for the incomplete market case.\n",
        "\n",
        "    Parameters\n",
        "    ----------\n",
        "\n",
        "    cp : instance of ConsumptionProblem\n",
        "    N_simul : int\n",
        "    initval : state to start from with 0 corresponding to state 1.\n",
        "\n",
        "    \"\"\"\n",
        "\n",
        "    β, P, y, b0,n  = cp.β, cp.P, cp.y, cp.b0, cp.n  # Unpack\n",
        "    np.random.seed(seed)\n",
        "    # For the simulation define a quantecon MC class\n",
        "    mc = qe.MarkovChain(P)\n",
        "\n",
        "    # Useful variables\n",
        "    y = np.asarray(y).reshape(n, 1)\n",
        "    v = np.linalg.inv(np.eye(n) - β * P) @ y\n",
        "\n",
        "    # Simulate state path\n",
        "    s_path = mc.simulate(N_simul, initval)\n",
        "\n",
        "    # Store consumption and debt path\n",
        "    b_path, c_path = np.ones(N_simul + 1), np.ones(N_simul)\n",
        "    b_path[0] = b0\n",
        "\n",
        "    # Optimal decisions from (12) and (13)\n",
        "    db = ((1 - β) * v - y) / β\n",
        "\n",
        "    for i, s in enumerate(s_path):\n",
        "        c_path[i] = (1 - β) * (v - b_path[i] * np.ones((np.size(y), 1)))[s, 0]\n",
        "        b_path[i + 1] = b_path[i] + db[s, 0]\n",
        "\n",
        "    return c_path, b_path[:-1], y[s_path], s_path"
      ],
      "execution_count": 0,
      "outputs": []
    },
    {
      "cell_type": "markdown",
      "metadata": {
        "id": "u_sYNdYGXzUF",
        "colab_type": "text"
      },
      "source": [
        "## Parameters"
      ]
    },
    {
      "cell_type": "code",
      "metadata": {
        "id": "cU8MXOODX3NM",
        "colab_type": "code",
        "colab": {}
      },
      "source": [
        "γ = .5\n",
        "λ = .5\n",
        "ϕ = .5\n",
        "G_L=.5\n",
        "G_M=.8\n",
        "G_H =1.2"
      ],
      "execution_count": 0,
      "outputs": []
    },
    {
      "cell_type": "markdown",
      "metadata": {
        "id": "g0szLHACWod0",
        "colab_type": "text"
      },
      "source": [
        "### Example 1\n",
        "\n",
        "This example is designed to emulate the Civil War and WWI\n",
        "\n",
        "$$ P = \\begin{bmatrix} 1 - \\lambda & \\lambda & 0 \\cr\n",
        "                       0 & 1 - \\phi & \\phi \\cr\n",
        "                       0 & 0 & 1 \\end{bmatrix} $$\n",
        "\n",
        "where the government expenditure vector  $g = \\begin{bmatrix} g_L & g_H & g_M \\end{bmatrix}$\n",
        "where $ g_L < g_M < g_H$ .  Please assume $b_0 = 0$ and assume that the initial Markov state is\n",
        "state $1$ so that the system starts off in peace.\n",
        "\n",
        "Please apply the code for both the complete and the incomplete markets tax-smoothing models and plot\n",
        "outcomes as they are in one of the graphs in the present notebook from quantecon or from your notebook from\n",
        "yesterday"
      ]
    },
    {
      "cell_type": "code",
      "metadata": {
        "id": "rUZ7r-8JaX-t",
        "colab_type": "code",
        "colab": {}
      },
      "source": [
        "g= [G_L,G_M,G_H]\n",
        "\n",
        "P_1 = np.array([\n",
        "    [1-λ, λ, 0 ],\n",
        "    [0, 1-ϕ, ϕ],\n",
        "    [0, 0, 1  ]])\n",
        "\n",
        "b0_1= 0\n",
        "initstate_1= 0\n",
        "N_simul=150\n",
        "seed=2020\n",
        "\n",
        "cp_1 = ConsumptionProblem(\n",
        "    P=P_1,y=g,b0=b0_1)\n",
        "\n",
        "c_bar_complete, b_complete, c_path_complete, b_path_complete, g_path_complete, s_path_complete = consumption_complete(cp_1,\n",
        "                                                                                                                      initval=initstate_1,\n",
        "                                                                                                                      N_simul=N_simul, seed=seed)\n",
        "\n",
        "c_path_incomplete, b_path_incomplete, g_path_incomplete, s_path_incomplete = consumption_incomplete(cp_1, \n",
        "                                                                                                    initval=initstate_1, \n",
        "                                                                                                    N_simul=N_simul, seed=seed)"
      ],
      "execution_count": 0,
      "outputs": []
    },
    {
      "cell_type": "markdown",
      "metadata": {
        "id": "ud9vypFAlHZK",
        "colab_type": "text"
      },
      "source": [
        "### Complete and Incomplete markets"
      ]
    },
    {
      "cell_type": "code",
      "metadata": {
        "id": "xEI5hXmNhopk",
        "colab_type": "code",
        "colab": {
          "base_uri": "https://localhost:8080/",
          "height": 350
        },
        "outputId": "de4f016f-cd25-4fef-f841-78319bb15af4"
      },
      "source": [
        "import matplotlib.pyplot as plt\n",
        "%matplotlib inline\n",
        "\n",
        "fig, ax = plt.subplots(1, 2, figsize=(15, 5))\n",
        "\n",
        "ax[0].set_title('Tax collection paths')\n",
        "ax[0].plot(np.arange(N_simul), c_path_incomplete, label='incomplete market')\n",
        "ax[0].plot(np.arange(N_simul), c_path_complete, label='complete market')\n",
        "ax[0].plot(np.arange(N_simul), g_path_complete, label='govt expenditures', alpha=.6, ls='--')\n",
        "ax[0].legend()\n",
        "ax[0].set_xlabel('Periods')\n",
        "\n",
        "ax[1].set_title('Government assets paths')\n",
        "ax[1].plot(np.arange(N_simul), b_path_incomplete, label='incomplete market')\n",
        "ax[1].plot(np.arange(N_simul), b_path_complete, label='complete market')\n",
        "ax[1].plot(np.arange(N_simul), g_path_complete, label='govt expenditures', ls='--')\n",
        "ax[1].legend()\n",
        "ax[1].axhline(0, color='k', ls='--')\n",
        "ax[1].set_xlabel('Periods')\n",
        "\n",
        "plt.show()"
      ],
      "execution_count": 71,
      "outputs": [
        {
          "output_type": "display_data",
          "data": {
            "image/png": "[encoded data removed]",
            "text/plain": [
              "<Figure size 1080x360 with 2 Axes>"
            ]
          },
          "metadata": {
            "tags": []
          }
        }
      ]
    },
    {
      "cell_type": "markdown",
      "metadata": {
        "id": "4t4n5Jc-lWdA",
        "colab_type": "text"
      },
      "source": [
        "### First 20 periods only"
      ]
    },
    {
      "cell_type": "code",
      "metadata": {
        "id": "RLuMmj-VlbnW",
        "colab_type": "code",
        "colab": {
          "base_uri": "https://localhost:8080/",
          "height": 350
        },
        "outputId": "3d039bd3-0e16-45b4-f541-cc7f0ffaa183"
      },
      "source": [
        "from matplotlib.ticker import MaxNLocator\n",
        "\n",
        "N=21\n",
        "\n",
        "\n",
        "fig, ax = plt.subplots(1, 2, figsize=(15, 5))\n",
        "ax[0].set_title('Tax collection paths')\n",
        "ax[0].plot(np.arange(N), c_path_incomplete[0:N], label='incomplete market')\n",
        "ax[0].plot(np.arange(N), c_path_complete[0:N], label='complete market')\n",
        "ax[0].plot(np.arange(N), g_path_complete[0:N], label='govt expenditures', alpha=.6, ls='--')\n",
        "ax[0].legend()\n",
        "ax[0].set_xlabel('First 20 Periods')\n",
        "ax[0].xaxis.set_major_locator(MaxNLocator(integer=True))\n",
        "\n",
        "\n",
        "ax[1].set_title('Government assets paths')\n",
        "ax[1].plot(np.arange(N), b_path_incomplete[0:N], label='incomplete market')\n",
        "ax[1].plot(np.arange(N), b_path_complete[0:N], label='complete market')\n",
        "ax[1].plot(np.arange(N), g_path_complete[0:N], label='govt expenditures', ls='--')\n",
        "ax[1].legend()\n",
        "ax[1].axhline(0, color='k', ls='--')\n",
        "ax[1].set_xlabel('First 20 Periods',)\n",
        "ax[1].xaxis.set_major_locator(MaxNLocator(integer=True))\n",
        "\n",
        "plt.show()"
      ],
      "execution_count": 78,
      "outputs": [
        {
          "output_type": "display_data",
          "data": {
            "image/png": "[encoded data removed]",
            "text/plain": [
              "<Figure size 1080x360 with 2 Axes>"
            ]
          },
          "metadata": {
            "tags": []
          }
        }
      ]
    },
    {
      "cell_type": "markdown",
      "metadata": {
        "id": "dORImoekWod1",
        "colab_type": "text"
      },
      "source": [
        "### Example 2\n",
        "\n",
        "This example captures a permanent peace.  \n",
        "\n",
        "Here set\n",
        "\n",
        "$$ P = \\begin{bmatrix}   1 & 0 & 0 \\cr\n",
        "                         0 & 1-\\gamma & \\gamma \\cr\n",
        "                         \\phi & 0 & 1-\\phi \\end{bmatrix} $$\n",
        "                       \n",
        "where the government expenditure vector  $g = \\begin{bmatrix} g_L & g_L & g_H \\end{bmatrix}$\n",
        "where $ g_L < g_H$ .  Please assume $b_0 = 0$ and assume that the initial Markov state is state $2$ so that \n",
        "the system starts off in a temporary peace.  \n",
        "\n",
        "\n",
        "Please apply the code for both the complete and the incomplete markets tax-smoothing models and plot\n",
        "outcomes as they are in one of the graphs in the present notebook from quantecon or from your notebook from\n",
        "yesterday\n",
        "\n",
        "\n",
        "\n",
        "\n",
        "state $1$ so that the system starts off in peace.          "
      ]
    },
    {
      "cell_type": "code",
      "metadata": {
        "id": "ffg7jkDrkxVE",
        "colab_type": "code",
        "colab": {}
      },
      "source": [
        "g= [G_L,G_L,G_H]\n",
        "\n",
        "P_1 = np.array([\n",
        "    [1, 0, 0 ],\n",
        "    [0, 1-γ, γ],\n",
        "    [ϕ, 0, 1  ]])\n",
        "\n",
        "b0_1= 0\n",
        "initstate_1= 0\n",
        "N_simul=150\n",
        "seed=2020"
      ],
      "execution_count": 0,
      "outputs": []
    }
  ]
}